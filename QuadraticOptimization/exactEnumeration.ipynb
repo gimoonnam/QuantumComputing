{
 "cells": [
  {
   "cell_type": "markdown",
   "metadata": {},
   "source": [
    "## Quadratic optimization using quantum annealing method \n",
    "\n",
    "This notebook is written to study how a quantum annealer is used to solve an optimization problem. \n",
    "\n",
    "Here, I considered very simple quadratic form of optimization problem, which was solved by using D-Wave system's quantum annealer. \n",
    "\n",
    "The goal of this problem is to find an optimal solution for a given objective function. The solution consists of $N$ variables, and each variable can have either 0 or 1. \n",
    "\n",
    "In general, the quadratic objective function has the following form\n",
    "$$H(x_1,x_2,...,x_N)=\\sum_{i=1}^{N}\\sum_{j=1}^{N}q_{ij}x_ix_j $$\n",
    "which needs to be minimized.\n",
    "\n",
    "-------------------\n",
    "As an example, the function is given as follow \n",
    "\n",
    "$$ H(x_1,x_2,x_3) = -2x_1 + 3x_3 -x_2x_3 $$\n",
    "\n",
    "The optimal solutions of this example function are \n",
    "\n",
    "$$(x_1,x_2,x_3) = (1,0,0)\\,\\, \\mathrm{and} \\,\\,(1,1,0)$$\n",
    "\n",
    "This is a simple case with three variables to be determined, so the solutions can be found quickly. But it becomes much more complicated as the number of variables increases.  \n",
    "\n",
    "--------------------\n",
    "I solved this optimization problem in two ways\n",
    "\n",
    "1. Exact enumeration for small number of variables \n",
    "2. Metropolis Monte Carlo method for larger number of variables \n"
   ]
  },
  {
   "cell_type": "code",
   "execution_count": 27,
   "metadata": {},
   "outputs": [],
   "source": [
    "class QuadraticOptimization:\n",
    "    def __init__(self,filename):\n",
    "        self.InputData =[]\n",
    "        self.file = filename\n",
    "        # read input file\n",
    "        f = open(self.file)\n",
    "        for l in f.readlines():\n",
    "            t = l.split()\n",
    "            self.InputData.append([int(t[0]),int(t[1]),float(t[2])])\n",
    "\n",
    "        #find the number of variables    \n",
    "        self.N=0\n",
    "        for i in range(len(self.InputData)):\n",
    "            self.N = max(self.N,max(self.InputData[i][0],self.InputData[i][1]))\n",
    "\n",
    "        #initial set of solution \n",
    "        self.sol=[1]*self.N \n",
    "    \n",
    "    def calObjectFunction(self):\n",
    "        H =0 \n",
    "        for d in self.InputData:\n",
    "            if d[0]==d[1]:\n",
    "                H += d[2]*self.sol[d[0]-1]\n",
    "            else:\n",
    "                H += d[2]*self.sol[d[0]-1]*self.sol[d[1]-1]\n",
    "        return H\n",
    "\n",
    "    def exactEnumeration(self):\n",
    "        # get all possible solutions \n",
    "        self.allSols=[]\n",
    "        for i in range(2**self.N):\n",
    "            bn =bin(i)[2:]\n",
    "            if len(bn) <= self.N:\n",
    "                bn = \"0\"*(self.N-len(bn))+bn\n",
    "            self.allSols.append(bn)\n",
    "        \n",
    "        \n",
    "        \n",
    "class findOptimalSolutions(QuadraticOptimization):        \n",
    "    def __init__(self,QuadraticOptimization):\n",
    "        super().__init__(QuadraticOptimization.file)\n",
    "        \n",
    "    def calObjectFunction(self,trialSol): \n",
    "        H =0 \n",
    "        s = [int(i) for i in list(trialSol)] \n",
    "        for d in self.InputData:\n",
    "            if d[0]==d[1]:\n",
    "                H += d[2]*s[d[0]-1]\n",
    "            else:\n",
    "                H += d[2]*s[d[0]-1]*s[d[1]-1]\n",
    "        return H\n",
    "\n",
    "    def showfoundSolutions(self):\n",
    "        self.exactEnumeration()\n",
    "        pair = {}\n",
    "        for i in range(len(self.allSols)):\n",
    "            pair[(self.allSols[i])] = self.calObjectFunction(self.allSols[i])\n",
    "\n",
    "        Hmin = min(pair.values())\n",
    "        for k,v in pair.items():\n",
    "            if v == Hmin:\n",
    "                print(k, Hmin)\n"
   ]
  },
  {
   "cell_type": "code",
   "execution_count": 28,
   "metadata": {},
   "outputs": [
    {
     "name": "stdout",
     "output_type": "stream",
     "text": [
      "100 -2.0\n",
      "110 -2.0\n"
     ]
    }
   ],
   "source": [
    "ex0 = QuadraticOptimization('example_0.txt')\n",
    "a = findOptimalSolutions(ex0)\n",
    "a.showfoundSolutions()"
   ]
  },
  {
   "cell_type": "code",
   "execution_count": 30,
   "metadata": {},
   "outputs": [
    {
     "name": "stdout",
     "output_type": "stream",
     "text": [
      "11101 -2.759064\n"
     ]
    }
   ],
   "source": [
    "ex1 = QuadraticOptimization('example_1.txt')\n",
    "b = findOptimalSolutions(ex1)\n",
    "b.showfoundSolutions()\n",
    "# print(ex1.InputData)\n",
    "# print(ex1.sol)\n",
    "# print(ex1.calObjectFunction())\n",
    "# ex1.exactEnumeration()\n",
    "# print((ex1.allSols))\n",
    "# print(ex1.sol)"
   ]
  },
  {
   "cell_type": "code",
   "execution_count": 31,
   "metadata": {},
   "outputs": [
    {
     "name": "stdout",
     "output_type": "stream",
     "text": [
      "1110001010 -2.6132\n"
     ]
    }
   ],
   "source": [
    "ex2 = QuadraticOptimization('example_2.txt')\n",
    "c = findOptimalSolutions(ex2)\n",
    "c.showfoundSolutions()\n"
   ]
  },
  {
   "cell_type": "code",
   "execution_count": 1,
   "metadata": {},
   "outputs": [],
   "source": [
    "# too large to run with the exact enumeration \n",
    "# ex3 = QuadraticOptimization('example_3.txt')\n",
    "# findOptimalSolutions(ex3)"
   ]
  },
  {
   "cell_type": "code",
   "execution_count": null,
   "metadata": {},
   "outputs": [],
   "source": []
  }
 ],
 "metadata": {
  "kernelspec": {
   "display_name": "Python 3",
   "language": "python",
   "name": "python3"
  },
  "language_info": {
   "codemirror_mode": {
    "name": "ipython",
    "version": 3
   },
   "file_extension": ".py",
   "mimetype": "text/x-python",
   "name": "python",
   "nbconvert_exporter": "python",
   "pygments_lexer": "ipython3",
   "version": "3.6.8"
  }
 },
 "nbformat": 4,
 "nbformat_minor": 2
}
