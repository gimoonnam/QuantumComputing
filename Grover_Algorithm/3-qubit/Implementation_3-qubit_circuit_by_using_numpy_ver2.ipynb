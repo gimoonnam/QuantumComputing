{
 "cells": [
  {
   "cell_type": "code",
   "execution_count": 1,
   "metadata": {},
   "outputs": [],
   "source": [
    "import numpy as np "
   ]
  },
  {
   "cell_type": "code",
   "execution_count": 2,
   "metadata": {},
   "outputs": [],
   "source": [
    "def define_basisFor1Q():\n",
    "    vec1Q = {}\n",
    "    vec1Q['0'] = np.array([[1],[0]])\n",
    "    vec1Q['1'] = np.array([[0],[1]])\n",
    "    return vec1Q\n"
   ]
  },
  {
   "cell_type": "code",
   "execution_count": 3,
   "metadata": {},
   "outputs": [],
   "source": [
    "def define_basisFor2Q(vec1q):\n",
    "    vec2Q = {}\n",
    "    vec2Q['00'] = np.kron(vec1q['0'],vec1q['0'])\n",
    "    vec2Q['01'] = np.kron(vec1q['0'],vec1q['1'])\n",
    "    vec2Q['10'] = np.kron(vec1q['1'],vec1q['0'])\n",
    "    vec2Q['11'] = np.kron(vec1q['1'],vec1q['1'])\n",
    "    return vec2Q\n",
    "    "
   ]
  },
  {
   "cell_type": "code",
   "execution_count": 4,
   "metadata": {},
   "outputs": [],
   "source": [
    "\n",
    "vec1q = define_basisFor1Q()\n",
    "vec2q = define_basisFor2Q(vec1q)\n",
    "\n",
    "vec3q={}\n",
    "vec3q['000'] = np.kron(vec1q['0'],vec2q['00'])\n",
    "vec3q['111'] = np.kron(vec1q['1'],vec2q['11'])\n",
    "vec3q['100'] = np.kron(vec1q['1'],vec2q['00'])\n",
    "vec3q['010'] = np.kron(vec1q['0'],vec2q['10'])\n",
    "vec3q['001'] = np.kron(vec1q['0'],vec2q['01'])\n",
    "vec3q['110'] = np.kron(vec1q['1'],vec2q['10'])\n",
    "vec3q['011'] = np.kron(vec1q['0'],vec2q['11'])\n",
    "vec3q['101'] = np.kron(vec1q['1'],vec2q['01'])\n",
    "\n",
    "# for key, value in vec3q.items():\n",
    "#     print(key, value)\n",
    "    \n",
    "idxInVec3q = {}\n",
    "for key, vec in vec3q.items():\n",
    "    idx = [i for i in range(vec.shape[0]) if vec[i]==1]\n",
    "    idxInVec3q[idx[0]] = key\n",
    "\n",
    "# print(idxInVec3q)\n",
    "# print(vec3q)\n",
    "\n"
   ]
  },
  {
   "cell_type": "code",
   "execution_count": 5,
   "metadata": {},
   "outputs": [],
   "source": [
    "nqubit = 3\n",
    "N = np.power(2,nqubit)\n",
    "\n",
    "H = np.matrix('1 1; 1 -1')\n",
    "X = np.matrix('0 1; 1 0')\n",
    "Z = np.matrix('1 0; 0 -1')\n",
    "H = H/np.sqrt(2)\n",
    "I = np.matrix('1 0; 0 1')\n",
    "I2 = np.kron(I,I)\n",
    "H2 = np.kron(H,H)\n",
    "H3 = np.kron(H,H2)\n",
    "X2 = np.kron(X,X)\n",
    "X3 = np.kron(X,X2)"
   ]
  },
  {
   "cell_type": "code",
   "execution_count": 6,
   "metadata": {},
   "outputs": [],
   "source": [
    "def get_controlled_gates(circuitSymbols):\n",
    "    \n",
    "    pos = circuitSymbols.find('Z')\n",
    "    \n",
    "    if pos == 0:\n",
    "        idx = 1\n",
    "    elif pos == 1: \n",
    "        idx = [3,5]\n",
    "    else: \n",
    "        idx = 7\n",
    "        \n",
    "    A = np.kron(I2,Z)\n",
    "    \n",
    "    for k in range(A.shape[0]):\n",
    "        A[k,k] = np.abs(A[k,k])\n",
    "    \n",
    "    \n",
    "    A[idx,idx]= -A[idx,idx]\n",
    "        \n",
    "    return A\n",
    "\n"
   ]
  },
  {
   "cell_type": "code",
   "execution_count": 7,
   "metadata": {},
   "outputs": [
    {
     "name": "stdout",
     "output_type": "stream",
     "text": [
      "[[1 0 0 0 0 0 0 0]\n",
      " [0 1 0 0 0 0 0 0]\n",
      " [0 0 1 0 0 0 0 0]\n",
      " [0 0 0 0 0 0 0 1]\n",
      " [0 0 0 0 1 0 0 0]\n",
      " [0 0 0 0 0 1 0 0]\n",
      " [0 0 0 0 0 0 1 0]\n",
      " [0 0 0 1 0 0 0 0]]\n",
      "[[ 1  0  0  0  0  0  0  0]\n",
      " [ 0  1  0  0  0  0  0  0]\n",
      " [ 0  0  1  0  0  0  0  0]\n",
      " [ 0  0  0  1  0  0  0  0]\n",
      " [ 0  0  0  0  1  0  0  0]\n",
      " [ 0  0  0  0  0  1  0  0]\n",
      " [ 0  0  0  0  0  0  1  0]\n",
      " [ 0  0  0  0  0  0  0 -1]]\n"
     ]
    }
   ],
   "source": [
    "#Change this cell using concatenate... \n",
    "CNN = np.kron(I,I2)\n",
    "CNN[3,3] = 0\n",
    "CNN[7,3] = 1\n",
    "CNN[3,7] = 1\n",
    "CNN[7,7] = 0\n",
    "print(CNN)\n",
    "\n",
    "\n",
    "ZCC = np.kron(I,I2)\n",
    "ZCC[7,7] = -1\n",
    "print(ZCC)\n",
    "\n",
    "\n"
   ]
  },
  {
   "cell_type": "code",
   "execution_count": 13,
   "metadata": {},
   "outputs": [],
   "source": [
    "def ExpressInState(Psi):\n",
    "    coeff = np.abs(Psi).max()\n",
    "    Psi = Psi/coeff\n",
    "\n",
    "    idx = [i for i in range(Psi.shape[0]) if np.abs(Psi[i])==1]\n",
    "    vec = []\n",
    "    for i in idx:\n",
    "        vec.append(idxInVec3q[i])\n",
    "\n",
    "    print(vec)\n",
    "    \n",
    "    "
   ]
  },
  {
   "cell_type": "code",
   "execution_count": 24,
   "metadata": {},
   "outputs": [
    {
     "name": "stdout",
     "output_type": "stream",
     "text": [
      "['000', '011', '100', '111']\n",
      "Psi_5:  [[-0.5]\n",
      " [ 0. ]\n",
      " [ 0. ]\n",
      " [ 0.5]\n",
      " [ 0.5]\n",
      " [ 0. ]\n",
      " [ 0. ]\n",
      " [ 0.5]]\n",
      "['000', '011', '100', '111']\n",
      "['011', '100']\n",
      "['100', '111']\n",
      "['101', '110']\n"
     ]
    }
   ],
   "source": [
    "Psi_3 = np.zeros((N,1))\n",
    "for key, value in vec3q.items():\n",
    "    if key == '101' or key == '110':\n",
    "        Psi_3 = Psi_3 - value\n",
    "    else: \n",
    "        Psi_3 = Psi_3 + value\n",
    "        \n",
    "Psi_3 = Psi_2/np.sqrt(N)        \n",
    "ExpressInState(Psi_5)\n",
    "\n",
    "\n",
    "Psi_4 = np.matmul(H3,Psi_3)\n",
    "#print(\"Psi_4: \", Psi_4)\n",
    "\n",
    "Psi_5 = np.matmul(X3, Psi_4)\n",
    "print(\"Psi_5: \", Psi_5)\n",
    "ExpressInState(Psi_5)\n",
    "\n",
    "HII = np.kron(H,I2)\n",
    "Psi_6 = np.matmul(HII, Psi_5)\n",
    "#print(\"Psi_6: \", Psi_6)\n",
    "ExpressInState(Psi_6)\n",
    "\n",
    "Psi_7 = np.matmul(CNN, Psi_6)\n",
    "#print(\"Psi_7: \", Psi_7)\n",
    "ExpressInState(Psi_7)\n",
    "\n",
    "HXX = np.kron(H,X2)\n",
    "Psi_8 = np.matmul(HXX, Psi_7)\n",
    "#print(\"Psi_8: \", Psi_8)\n",
    "\n",
    "XHH = np.kron(X,H2)\n",
    "Psi_9 = np.matmul(XHH, Psi_8)\n",
    "#print(\"Psi_9 :\", Psi_9)\n",
    "\n",
    "HII = np.kron(H,I2)\n",
    "Psi_10 = np.matmul(HII,Psi_9)\n",
    "#print(\"Psi_10 :\", Psi_10)\n",
    "ExpressInState(Psi_10)\n"
   ]
  },
  {
   "cell_type": "code",
   "execution_count": 33,
   "metadata": {},
   "outputs": [
    {
     "name": "stdout",
     "output_type": "stream",
     "text": [
      "['000', '001', '010', '011', '100', '101', '110', '111']\n",
      "Psi_4:  [[ 0.5]\n",
      " [ 0. ]\n",
      " [ 0. ]\n",
      " [ 0.5]\n",
      " [ 0.5]\n",
      " [ 0. ]\n",
      " [ 0. ]\n",
      " [-0.5]]\n",
      "['000', '011', '100', '111']\n",
      "['000', '011', '100', '111']\n",
      "['000', '011', '100', '111']\n",
      "['000', '011', '100', '111']\n",
      "Psi_8:  [[ 0.00000000e+00]\n",
      " [-6.73463194e-18]\n",
      " [-6.73463194e-18]\n",
      " [ 0.00000000e+00]\n",
      " [ 0.00000000e+00]\n",
      " [-7.07106781e-01]\n",
      " [-7.07106781e-01]\n",
      " [ 0.00000000e+00]]\n",
      "['101', '110']\n"
     ]
    }
   ],
   "source": [
    "Psi_0 = vec3q['000']\n",
    "Psi_1 = np.matmul(H3,Psi_0)\n",
    "#print(\"Psi_1: \", Psi_1)\n",
    "\n",
    "Psi_2 = np.zeros((N,1))\n",
    "for key, value in vec3q.items():\n",
    "    if key == '101' or key == '110':\n",
    "        Psi_2 = Psi_2 - value\n",
    "    else: \n",
    "        Psi_2 = Psi_2 + value\n",
    "        \n",
    "Psi_3 = Psi_2/np.sqrt(N)        \n",
    "ExpressInState(Psi_3)\n",
    "\n",
    "Psi_4 = np.matmul(H3,Psi_3)\n",
    "print(\"Psi_4: \", Psi_4)\n",
    "ExpressInState(Psi_4)\n",
    "\n",
    "Psi_5 = np.matmul(X3, Psi_4)\n",
    "ExpressInState(Psi_5)\n",
    "\n",
    "Psi_6 = np.matmul(ZCC, Psi_5)\n",
    "ExpressInState(Psi_6)\n",
    "\n",
    "Psi_7 = np.matmul(X3, Psi_6)\n",
    "ExpressInState(Psi_7)\n",
    "\n",
    "Psi_8 = np.matmul(H3, Psi_7)\n",
    "print(\"Psi_8: \", Psi_8)\n",
    "ExpressInState(Psi_8)\n",
    "\n"
   ]
  },
  {
   "cell_type": "code",
   "execution_count": 22,
   "metadata": {},
   "outputs": [
    {
     "data": {
      "text/plain": [
       "0.7071067811865475"
      ]
     },
     "execution_count": 22,
     "metadata": {},
     "output_type": "execute_result"
    }
   ],
   "source": [
    "1/np.sqrt(2)"
   ]
  },
  {
   "cell_type": "code",
   "execution_count": null,
   "metadata": {},
   "outputs": [],
   "source": []
  }
 ],
 "metadata": {
  "kernelspec": {
   "display_name": "Python 3",
   "language": "python",
   "name": "python3"
  },
  "language_info": {
   "codemirror_mode": {
    "name": "ipython",
    "version": 3
   },
   "file_extension": ".py",
   "mimetype": "text/x-python",
   "name": "python",
   "nbconvert_exporter": "python",
   "pygments_lexer": "ipython3",
   "version": "3.6.8"
  }
 },
 "nbformat": 4,
 "nbformat_minor": 2
}
