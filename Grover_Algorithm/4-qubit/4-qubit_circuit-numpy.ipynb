{
 "cells": [
  {
   "cell_type": "markdown",
   "metadata": {},
   "source": [
    "## 4-qubit circuit for Grover's algorithm \n",
    "\n",
    "Below, we will implement the following 4-qubit circuit to implement Grover's algorithm, \n",
    "where we set the two marked states, $$|w> = |0101>$$\n",
    "\n",
    "The initial state is $|\\Psi_0> =|0000>$, and this state will change when passing each gate, which we will trace."
   ]
  },
  {
   "cell_type": "code",
   "execution_count": 1,
   "metadata": {},
   "outputs": [],
   "source": [
    "import numpy as np \n",
    "from IPython.display import Image\n",
    "import itertools\n",
    "import re"
   ]
  },
  {
   "cell_type": "code",
   "execution_count": 2,
   "metadata": {},
   "outputs": [],
   "source": [
    "#Image(filename='/Users/gimoonnam/Desktop/ImplementationOfGroverAlgorithm/grover_3-qubit.png')"
   ]
  },
  {
   "cell_type": "code",
   "execution_count": 3,
   "metadata": {},
   "outputs": [],
   "source": [
    "def define_basisFor1Q():\n",
    "    vec1Q = {}\n",
    "    vec1Q['0'] = np.array([[1],[0]])\n",
    "    vec1Q['1'] = np.array([[0],[1]])\n",
    "    return vec1Q"
   ]
  },
  {
   "cell_type": "code",
   "execution_count": 4,
   "metadata": {},
   "outputs": [],
   "source": [
    "def construct_basisFor4Q():\n",
    "\n",
    "    arr = np.array([['0','0','0','0'],['1','0','0','0'],\n",
    "                ['1','1','0','0'],['1','1','1','0'],['1','1','1','1']])\n",
    "    list_p =[]\n",
    "\n",
    "    for row in arr:\n",
    "        temp = itertools.permutations(row)  \n",
    "        list_p.extend(set(tuple(x) for x in list(temp)))\n",
    "        \n",
    "    vec1q = define_basisFor1Q()    \n",
    "    vec4q = {}\n",
    "\n",
    "    for i in list_p:\n",
    "        k = list(reversed(i))\n",
    "        temp = vec1q[k[0]]\n",
    "        for idx in range(1,len(k)):\n",
    "            temp = np.kron(vec1q[k[idx]],temp) \n",
    "            \n",
    "        state = i[0]+i[1]+i[2]+i[3]\n",
    "        vec4q[state] = temp;  \n",
    "\n",
    "    return vec4q\n",
    "\n",
    "\n",
    "\n",
    "def DefineIndexTable4Qubit(vec4q):\n",
    "    idxInVec4q = {}\n",
    "    for key, vec in vec4q.items():\n",
    "        idx = [i for i in range(vec.shape[0]) if vec[i]==1]\n",
    "        idxInVec4q[idx[0]] = key\n",
    "    return idxInVec4q \n",
    "    \n"
   ]
  },
  {
   "cell_type": "code",
   "execution_count": 5,
   "metadata": {
    "scrolled": false
   },
   "outputs": [],
   "source": [
    "# define gates \n",
    "# H for Hadamard gate \n",
    "# X for X gate \n",
    "# I for identity gate \n",
    "\n",
    "nqubit = 4\n",
    "N = np.power(2,nqubit)\n",
    "\n",
    "H = np.matrix('1 1; 1 -1')\n",
    "X = np.matrix('0 1; 1 0')\n",
    "Z = np.matrix('1 0; 0 -1')\n",
    "H = H/np.sqrt(2)\n",
    "I = np.matrix('1 0; 0 1')\n",
    "I2 = np.kron(I,I)\n",
    "I4 = np.kron(I,np.kron(I,I2))\n",
    "H2 = np.kron(H,H)\n",
    "H3 = np.kron(H,H2)\n",
    "H4 = np.kron(H,H3)\n",
    "X2 = np.kron(X,X)\n",
    "X3 = np.kron(X,X2)\n",
    "X4 = np.kron(X,X3)\n",
    "\n",
    "\n",
    "vec4q = construct_basisFor4Q()\n",
    "idxInVec4q = DefineIndexTable4Qubit(vec4q)\n"
   ]
  },
  {
   "cell_type": "code",
   "execution_count": 6,
   "metadata": {},
   "outputs": [],
   "source": [
    "def ConvertMatrixToState(Psi):\n",
    "    coeff = np.abs(Psi).max()\n",
    "    Psi = Psi/coeff\n",
    "    idx = [i for i in range(Psi.shape[0]) if np.abs(Psi[i])==1]\n",
    "    vec = []\n",
    "    for i in idx:\n",
    "        if Psi[i] < 0: \n",
    "            vec.append('-' + '|' + idxInVec4q[i] + '>')\n",
    "        else:\n",
    "            vec.append('|' + idxInVec4q[i] + '>')\n",
    "    vec.append('=> Prob = '+str(np.square(coeff)))\n",
    "    print(vec)\n",
    "    return None"
   ]
  },
  {
   "cell_type": "markdown",
   "metadata": {},
   "source": [
    "# Constructing 4-qubit circuit with markded state $|\\omega> = |0101>$\n",
    "\n",
    "\n",
    "Initially, \n",
    "$$|\\Psi_0> = |0000> $$\n",
    "\n",
    "\n",
    "\n",
    "\n",
    "After Hadamard gates, the state changes with superpositioning of all possible states \n",
    "\n",
    "$$|\\Psi_1> = \\frac{1}{4} \\left(|0000> + |0001>+ |0010>+ |0011>\\\\ + |0100>+ |0101>+ |0110>+ |0111> \\\\+ |1000>+ |1001>+ |1010>+ |1011> \\\\+ |1100>+ |1101>+ |1110>+ |1111>\\right)$$\n"
   ]
  },
  {
   "cell_type": "code",
   "execution_count": 7,
   "metadata": {},
   "outputs": [
    {
     "name": "stdout",
     "output_type": "stream",
     "text": [
      "['|0000>', '|0001>', '|0010>', '|0011>', '|0100>', '|0101>', '|0110>', '|0111>', '|1000>', '|1001>', '|1010>', '|1011>', '|1100>', '|1101>', '|1110>', '|1111>', '=> Prob = 0.06249999999999996']\n"
     ]
    }
   ],
   "source": [
    "#initial state function is |0000> \n",
    "Psi_0 = vec4q['0000']\n",
    "\n",
    "#After Hadamard gates, the state can be written as a sum of all possible states \n",
    "Psi_1 = np.matmul(H4,Psi_0)\n",
    "ConvertMatrixToState(Psi_1)"
   ]
  },
  {
   "cell_type": "markdown",
   "metadata": {},
   "source": [
    "## Designing Oracle Black Box that only flips the marked state \n",
    "$$U_f|\\omega>=−|\\omega> $$\n"
   ]
  },
  {
   "cell_type": "code",
   "execution_count": 8,
   "metadata": {},
   "outputs": [
    {
     "name": "stdout",
     "output_type": "stream",
     "text": [
      "['|0000>', '|0001>', '|0010>', '|0011>', '|0100>', '|0101>', '|0110>', '|0111>', '|1000>', '|1001>', '|1010>', '|1011>', '|1100>', '|1101>', '|1110>', '|1111>', '=> Prob = 0.06249999999999996']\n"
     ]
    }
   ],
   "source": [
    "Psi_2 = np.matmul(I4, Psi_1)\n",
    "ConvertMatrixToState(Psi_2)"
   ]
  },
  {
   "cell_type": "code",
   "execution_count": 9,
   "metadata": {},
   "outputs": [
    {
     "name": "stdout",
     "output_type": "stream",
     "text": [
      "['|0000>', '|0001>', '|0010>', '|0011>', '|0100>', '-|0101>', '|0110>', '|0111>', '|1000>', '|1001>', '|1010>', '|1011>', '|1100>', '|1101>', '|1110>', '|1111>', '=> Prob = 0.06249999999999996']\n"
     ]
    }
   ],
   "source": [
    "XI = np.kron(X,I)\n",
    "XIXI = np.kron(X,np.kron(I,XI))\n",
    "Psi_3 = np.matmul(XIXI,Psi_2)\n",
    "\n",
    "cccZ = I4 \n",
    "cccZ[N-1,N-1] = -1\n",
    "Psi_4 = np.matmul(cccZ,Psi_3)\n",
    "Psi_5 = np.matmul(XIXI,Psi_4)\n",
    "ConvertMatrixToState(Psi_5)\n"
   ]
  },
  {
   "cell_type": "markdown",
   "metadata": {},
   "source": [
    "## Amplitude Amplification "
   ]
  },
  {
   "cell_type": "code",
   "execution_count": 10,
   "metadata": {},
   "outputs": [
    {
     "name": "stdout",
     "output_type": "stream",
     "text": [
      "['-|0101>', '=> Prob = 0.4726562499999991']\n"
     ]
    }
   ],
   "source": [
    "Psi_6 = np.matmul(H4,Psi_5)\n",
    "Psi_7 = np.matmul(X4,Psi_6)\n",
    "Psi_8 = np.matmul(cccZ,Psi_7)\n",
    "Psi_9  = np.matmul(X4,Psi_8)\n",
    "Psi_10 = np.matmul(H4,Psi_9)\n",
    "ConvertMatrixToState(Psi_10)\n"
   ]
  },
  {
   "cell_type": "code",
   "execution_count": null,
   "metadata": {},
   "outputs": [],
   "source": []
  }
 ],
 "metadata": {
  "kernelspec": {
   "display_name": "Python 3",
   "language": "python",
   "name": "python3"
  },
  "language_info": {
   "codemirror_mode": {
    "name": "ipython",
    "version": 3
   },
   "file_extension": ".py",
   "mimetype": "text/x-python",
   "name": "python",
   "nbconvert_exporter": "python",
   "pygments_lexer": "ipython3",
   "version": "3.6.8"
  }
 },
 "nbformat": 4,
 "nbformat_minor": 2
}
